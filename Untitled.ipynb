{
 "cells": [
  {
   "cell_type": "markdown",
   "metadata": {},
   "source": [
    "# **Python ile Veri Tanımaya ve Temel İstatistiğe Giriş**"
   ]
  },
  {
   "cell_type": "markdown",
   "metadata": {},
   "source": [
    "# Gerekli Kütüphaneler"
   ]
  },
  {
   "cell_type": "code",
   "execution_count": 28,
   "metadata": {},
   "outputs": [],
   "source": [
    "import pandas as pd\n",
    "import numpy as np"
   ]
  },
  {
   "cell_type": "markdown",
   "metadata": {},
   "source": [
    "# Kendi verimiz için sözlük oluşturup pandas'ın DataFrame metodu ile çağırıp verimizi görelim"
   ]
  },
  {
   "cell_type": "code",
   "execution_count": 30,
   "metadata": {},
   "outputs": [],
   "source": [
    "sozluk = {'İsim':pd.Series(['Ada','Cem','Sibel','Ahmet','Mehmet','Ali','Veli',\n",
    "          'Ayşe','Hüseyin','Necmi','Nalan','Namık']),\n",
    "          \n",
    "          'Meslek':pd.Series(['işçi','işçi','memur','serbest','serbest',None,None,\n",
    "          'sigortacı','işsiz',None,None,'memur']),\n",
    "          \n",
    "          'Tarih':pd.Series(['11.11.2010','11.11.2010','11.11.2010','18.11.2011','18.11.2011',None,None,\n",
    "          None,'11.11.2010',None,'18.11.2011','18.11.2011']), \n",
    "          \n",
    "          'Yaş':pd.Series([21, 24, 25, 44, 31, 27, 35, 33, 42, 29, 41, 43]),\n",
    "          \n",
    "          'ÇocukSayısı':pd.Series([None, None, None, None, None, 1, 2, 0, None, None, None, None]),\n",
    "          \n",
    "          'Puan':pd.Series([89, 87, 77, 55, 70, 79, 73, 79, 54, 92, 61, 69])}\n",
    " \n",
    "df = pd.DataFrame(sozluk)"
   ]
  },
  {
   "cell_type": "markdown",
   "metadata": {},
   "source": [
    "# 12 satır ve 6 adet öznitelikten oluşan veri kümesi, belirli tarihlerde sınava giren kişilere ait demografik bilgileri, meslek bilgilerini ve sınavdan aldıkları puanları içermektedir."
   ]
  },
  {
   "cell_type": "code",
   "execution_count": 31,
   "metadata": {},
   "outputs": [
    {
     "data": {
      "text/html": [
       "<div>\n",
       "<style scoped>\n",
       "    .dataframe tbody tr th:only-of-type {\n",
       "        vertical-align: middle;\n",
       "    }\n",
       "\n",
       "    .dataframe tbody tr th {\n",
       "        vertical-align: top;\n",
       "    }\n",
       "\n",
       "    .dataframe thead th {\n",
       "        text-align: right;\n",
       "    }\n",
       "</style>\n",
       "<table border=\"1\" class=\"dataframe\">\n",
       "  <thead>\n",
       "    <tr style=\"text-align: right;\">\n",
       "      <th></th>\n",
       "      <th>Meslek</th>\n",
       "      <th>Puan</th>\n",
       "      <th>Tarih</th>\n",
       "      <th>Yaş</th>\n",
       "      <th>ÇocukSayısı</th>\n",
       "      <th>İsim</th>\n",
       "    </tr>\n",
       "  </thead>\n",
       "  <tbody>\n",
       "    <tr>\n",
       "      <th>0</th>\n",
       "      <td>işçi</td>\n",
       "      <td>89</td>\n",
       "      <td>11.11.2010</td>\n",
       "      <td>21</td>\n",
       "      <td>NaN</td>\n",
       "      <td>Ada</td>\n",
       "    </tr>\n",
       "    <tr>\n",
       "      <th>1</th>\n",
       "      <td>işçi</td>\n",
       "      <td>87</td>\n",
       "      <td>11.11.2010</td>\n",
       "      <td>24</td>\n",
       "      <td>NaN</td>\n",
       "      <td>Cem</td>\n",
       "    </tr>\n",
       "    <tr>\n",
       "      <th>2</th>\n",
       "      <td>memur</td>\n",
       "      <td>77</td>\n",
       "      <td>11.11.2010</td>\n",
       "      <td>25</td>\n",
       "      <td>NaN</td>\n",
       "      <td>Sibel</td>\n",
       "    </tr>\n",
       "    <tr>\n",
       "      <th>3</th>\n",
       "      <td>serbest</td>\n",
       "      <td>55</td>\n",
       "      <td>18.11.2011</td>\n",
       "      <td>44</td>\n",
       "      <td>NaN</td>\n",
       "      <td>Ahmet</td>\n",
       "    </tr>\n",
       "    <tr>\n",
       "      <th>4</th>\n",
       "      <td>serbest</td>\n",
       "      <td>70</td>\n",
       "      <td>18.11.2011</td>\n",
       "      <td>31</td>\n",
       "      <td>NaN</td>\n",
       "      <td>Mehmet</td>\n",
       "    </tr>\n",
       "    <tr>\n",
       "      <th>5</th>\n",
       "      <td>None</td>\n",
       "      <td>79</td>\n",
       "      <td>None</td>\n",
       "      <td>27</td>\n",
       "      <td>1.0</td>\n",
       "      <td>Ali</td>\n",
       "    </tr>\n",
       "    <tr>\n",
       "      <th>6</th>\n",
       "      <td>None</td>\n",
       "      <td>73</td>\n",
       "      <td>None</td>\n",
       "      <td>35</td>\n",
       "      <td>2.0</td>\n",
       "      <td>Veli</td>\n",
       "    </tr>\n",
       "    <tr>\n",
       "      <th>7</th>\n",
       "      <td>sigortacı</td>\n",
       "      <td>79</td>\n",
       "      <td>None</td>\n",
       "      <td>33</td>\n",
       "      <td>0.0</td>\n",
       "      <td>Ayşe</td>\n",
       "    </tr>\n",
       "    <tr>\n",
       "      <th>8</th>\n",
       "      <td>işsiz</td>\n",
       "      <td>54</td>\n",
       "      <td>11.11.2010</td>\n",
       "      <td>42</td>\n",
       "      <td>NaN</td>\n",
       "      <td>Hüseyin</td>\n",
       "    </tr>\n",
       "    <tr>\n",
       "      <th>9</th>\n",
       "      <td>None</td>\n",
       "      <td>92</td>\n",
       "      <td>None</td>\n",
       "      <td>29</td>\n",
       "      <td>NaN</td>\n",
       "      <td>Necmi</td>\n",
       "    </tr>\n",
       "    <tr>\n",
       "      <th>10</th>\n",
       "      <td>None</td>\n",
       "      <td>61</td>\n",
       "      <td>18.11.2011</td>\n",
       "      <td>41</td>\n",
       "      <td>NaN</td>\n",
       "      <td>Nalan</td>\n",
       "    </tr>\n",
       "    <tr>\n",
       "      <th>11</th>\n",
       "      <td>memur</td>\n",
       "      <td>69</td>\n",
       "      <td>18.11.2011</td>\n",
       "      <td>43</td>\n",
       "      <td>NaN</td>\n",
       "      <td>Namık</td>\n",
       "    </tr>\n",
       "  </tbody>\n",
       "</table>\n",
       "</div>"
      ],
      "text/plain": [
       "       Meslek  Puan       Tarih  Yaş  ÇocukSayısı     İsim\n",
       "0        işçi    89  11.11.2010   21          NaN      Ada\n",
       "1        işçi    87  11.11.2010   24          NaN      Cem\n",
       "2       memur    77  11.11.2010   25          NaN    Sibel\n",
       "3     serbest    55  18.11.2011   44          NaN    Ahmet\n",
       "4     serbest    70  18.11.2011   31          NaN   Mehmet\n",
       "5        None    79        None   27          1.0      Ali\n",
       "6        None    73        None   35          2.0     Veli\n",
       "7   sigortacı    79        None   33          0.0     Ayşe\n",
       "8       işsiz    54  11.11.2010   42          NaN  Hüseyin\n",
       "9        None    92        None   29          NaN    Necmi\n",
       "10       None    61  18.11.2011   41          NaN    Nalan\n",
       "11      memur    69  18.11.2011   43          NaN    Namık"
      ]
     },
     "execution_count": 31,
     "metadata": {},
     "output_type": "execute_result"
    }
   ],
   "source": [
    "df"
   ]
  },
  {
   "cell_type": "markdown",
   "metadata": {},
   "source": [
    "# İlk 5 satırı görüntüleme"
   ]
  },
  {
   "cell_type": "code",
   "execution_count": 2,
   "metadata": {},
   "outputs": [
    {
     "data": {
      "text/html": [
       "<div>\n",
       "<style scoped>\n",
       "    .dataframe tbody tr th:only-of-type {\n",
       "        vertical-align: middle;\n",
       "    }\n",
       "\n",
       "    .dataframe tbody tr th {\n",
       "        vertical-align: top;\n",
       "    }\n",
       "\n",
       "    .dataframe thead th {\n",
       "        text-align: right;\n",
       "    }\n",
       "</style>\n",
       "<table border=\"1\" class=\"dataframe\">\n",
       "  <thead>\n",
       "    <tr style=\"text-align: right;\">\n",
       "      <th></th>\n",
       "      <th>Meslek</th>\n",
       "      <th>Puan</th>\n",
       "      <th>Tarih</th>\n",
       "      <th>Yaş</th>\n",
       "      <th>ÇocukSayısı</th>\n",
       "      <th>İsim</th>\n",
       "    </tr>\n",
       "  </thead>\n",
       "  <tbody>\n",
       "    <tr>\n",
       "      <th>0</th>\n",
       "      <td>işçi</td>\n",
       "      <td>89</td>\n",
       "      <td>11.11.2010</td>\n",
       "      <td>21</td>\n",
       "      <td>NaN</td>\n",
       "      <td>Ada</td>\n",
       "    </tr>\n",
       "    <tr>\n",
       "      <th>1</th>\n",
       "      <td>işçi</td>\n",
       "      <td>87</td>\n",
       "      <td>11.11.2010</td>\n",
       "      <td>24</td>\n",
       "      <td>NaN</td>\n",
       "      <td>Cem</td>\n",
       "    </tr>\n",
       "    <tr>\n",
       "      <th>2</th>\n",
       "      <td>memur</td>\n",
       "      <td>77</td>\n",
       "      <td>11.11.2010</td>\n",
       "      <td>25</td>\n",
       "      <td>NaN</td>\n",
       "      <td>Sibel</td>\n",
       "    </tr>\n",
       "    <tr>\n",
       "      <th>3</th>\n",
       "      <td>serbest</td>\n",
       "      <td>55</td>\n",
       "      <td>18.11.2011</td>\n",
       "      <td>44</td>\n",
       "      <td>NaN</td>\n",
       "      <td>Ahmet</td>\n",
       "    </tr>\n",
       "    <tr>\n",
       "      <th>4</th>\n",
       "      <td>serbest</td>\n",
       "      <td>70</td>\n",
       "      <td>18.11.2011</td>\n",
       "      <td>31</td>\n",
       "      <td>NaN</td>\n",
       "      <td>Mehmet</td>\n",
       "    </tr>\n",
       "  </tbody>\n",
       "</table>\n",
       "</div>"
      ],
      "text/plain": [
       "    Meslek  Puan       Tarih  Yaş  ÇocukSayısı    İsim\n",
       "0     işçi    89  11.11.2010   21          NaN     Ada\n",
       "1     işçi    87  11.11.2010   24          NaN     Cem\n",
       "2    memur    77  11.11.2010   25          NaN   Sibel\n",
       "3  serbest    55  18.11.2011   44          NaN   Ahmet\n",
       "4  serbest    70  18.11.2011   31          NaN  Mehmet"
      ]
     },
     "execution_count": 2,
     "metadata": {},
     "output_type": "execute_result"
    }
   ],
   "source": [
    "df.head()"
   ]
  },
  {
   "cell_type": "markdown",
   "metadata": {},
   "source": [
    "# Son 5 satırı görüntüleme"
   ]
  },
  {
   "cell_type": "code",
   "execution_count": 3,
   "metadata": {},
   "outputs": [
    {
     "data": {
      "text/html": [
       "<div>\n",
       "<style scoped>\n",
       "    .dataframe tbody tr th:only-of-type {\n",
       "        vertical-align: middle;\n",
       "    }\n",
       "\n",
       "    .dataframe tbody tr th {\n",
       "        vertical-align: top;\n",
       "    }\n",
       "\n",
       "    .dataframe thead th {\n",
       "        text-align: right;\n",
       "    }\n",
       "</style>\n",
       "<table border=\"1\" class=\"dataframe\">\n",
       "  <thead>\n",
       "    <tr style=\"text-align: right;\">\n",
       "      <th></th>\n",
       "      <th>Meslek</th>\n",
       "      <th>Puan</th>\n",
       "      <th>Tarih</th>\n",
       "      <th>Yaş</th>\n",
       "      <th>ÇocukSayısı</th>\n",
       "      <th>İsim</th>\n",
       "    </tr>\n",
       "  </thead>\n",
       "  <tbody>\n",
       "    <tr>\n",
       "      <th>7</th>\n",
       "      <td>sigortacı</td>\n",
       "      <td>79</td>\n",
       "      <td>None</td>\n",
       "      <td>33</td>\n",
       "      <td>0.0</td>\n",
       "      <td>Ayşe</td>\n",
       "    </tr>\n",
       "    <tr>\n",
       "      <th>8</th>\n",
       "      <td>işsiz</td>\n",
       "      <td>54</td>\n",
       "      <td>11.11.2010</td>\n",
       "      <td>42</td>\n",
       "      <td>NaN</td>\n",
       "      <td>Hüseyin</td>\n",
       "    </tr>\n",
       "    <tr>\n",
       "      <th>9</th>\n",
       "      <td>None</td>\n",
       "      <td>92</td>\n",
       "      <td>None</td>\n",
       "      <td>29</td>\n",
       "      <td>NaN</td>\n",
       "      <td>Necmi</td>\n",
       "    </tr>\n",
       "    <tr>\n",
       "      <th>10</th>\n",
       "      <td>None</td>\n",
       "      <td>61</td>\n",
       "      <td>18.11.2011</td>\n",
       "      <td>41</td>\n",
       "      <td>NaN</td>\n",
       "      <td>Nalan</td>\n",
       "    </tr>\n",
       "    <tr>\n",
       "      <th>11</th>\n",
       "      <td>memur</td>\n",
       "      <td>69</td>\n",
       "      <td>18.11.2011</td>\n",
       "      <td>43</td>\n",
       "      <td>NaN</td>\n",
       "      <td>Namık</td>\n",
       "    </tr>\n",
       "  </tbody>\n",
       "</table>\n",
       "</div>"
      ],
      "text/plain": [
       "       Meslek  Puan       Tarih  Yaş  ÇocukSayısı     İsim\n",
       "7   sigortacı    79        None   33          0.0     Ayşe\n",
       "8       işsiz    54  11.11.2010   42          NaN  Hüseyin\n",
       "9        None    92        None   29          NaN    Necmi\n",
       "10       None    61  18.11.2011   41          NaN    Nalan\n",
       "11      memur    69  18.11.2011   43          NaN    Namık"
      ]
     },
     "execution_count": 3,
     "metadata": {},
     "output_type": "execute_result"
    }
   ],
   "source": [
    "df.tail()"
   ]
  },
  {
   "cell_type": "markdown",
   "metadata": {},
   "source": [
    "# Rasgele 5 satırı görüntüleme"
   ]
  },
  {
   "cell_type": "code",
   "execution_count": 4,
   "metadata": {},
   "outputs": [
    {
     "data": {
      "text/html": [
       "<div>\n",
       "<style scoped>\n",
       "    .dataframe tbody tr th:only-of-type {\n",
       "        vertical-align: middle;\n",
       "    }\n",
       "\n",
       "    .dataframe tbody tr th {\n",
       "        vertical-align: top;\n",
       "    }\n",
       "\n",
       "    .dataframe thead th {\n",
       "        text-align: right;\n",
       "    }\n",
       "</style>\n",
       "<table border=\"1\" class=\"dataframe\">\n",
       "  <thead>\n",
       "    <tr style=\"text-align: right;\">\n",
       "      <th></th>\n",
       "      <th>Meslek</th>\n",
       "      <th>Puan</th>\n",
       "      <th>Tarih</th>\n",
       "      <th>Yaş</th>\n",
       "      <th>ÇocukSayısı</th>\n",
       "      <th>İsim</th>\n",
       "    </tr>\n",
       "  </thead>\n",
       "  <tbody>\n",
       "    <tr>\n",
       "      <th>6</th>\n",
       "      <td>None</td>\n",
       "      <td>73</td>\n",
       "      <td>None</td>\n",
       "      <td>35</td>\n",
       "      <td>2.0</td>\n",
       "      <td>Veli</td>\n",
       "    </tr>\n",
       "    <tr>\n",
       "      <th>7</th>\n",
       "      <td>sigortacı</td>\n",
       "      <td>79</td>\n",
       "      <td>None</td>\n",
       "      <td>33</td>\n",
       "      <td>0.0</td>\n",
       "      <td>Ayşe</td>\n",
       "    </tr>\n",
       "    <tr>\n",
       "      <th>10</th>\n",
       "      <td>None</td>\n",
       "      <td>61</td>\n",
       "      <td>18.11.2011</td>\n",
       "      <td>41</td>\n",
       "      <td>NaN</td>\n",
       "      <td>Nalan</td>\n",
       "    </tr>\n",
       "    <tr>\n",
       "      <th>4</th>\n",
       "      <td>serbest</td>\n",
       "      <td>70</td>\n",
       "      <td>18.11.2011</td>\n",
       "      <td>31</td>\n",
       "      <td>NaN</td>\n",
       "      <td>Mehmet</td>\n",
       "    </tr>\n",
       "    <tr>\n",
       "      <th>3</th>\n",
       "      <td>serbest</td>\n",
       "      <td>55</td>\n",
       "      <td>18.11.2011</td>\n",
       "      <td>44</td>\n",
       "      <td>NaN</td>\n",
       "      <td>Ahmet</td>\n",
       "    </tr>\n",
       "  </tbody>\n",
       "</table>\n",
       "</div>"
      ],
      "text/plain": [
       "       Meslek  Puan       Tarih  Yaş  ÇocukSayısı    İsim\n",
       "6        None    73        None   35          2.0    Veli\n",
       "7   sigortacı    79        None   33          0.0    Ayşe\n",
       "10       None    61  18.11.2011   41          NaN   Nalan\n",
       "4     serbest    70  18.11.2011   31          NaN  Mehmet\n",
       "3     serbest    55  18.11.2011   44          NaN   Ahmet"
      ]
     },
     "execution_count": 4,
     "metadata": {},
     "output_type": "execute_result"
    }
   ],
   "source": [
    "df.sample(5)"
   ]
  },
  {
   "cell_type": "markdown",
   "metadata": {},
   "source": [
    "# Satır ve sütun (öznitelik) sayısını görüntüleme"
   ]
  },
  {
   "cell_type": "code",
   "execution_count": 5,
   "metadata": {},
   "outputs": [
    {
     "data": {
      "text/plain": [
       "(12, 6)"
      ]
     },
     "execution_count": 5,
     "metadata": {},
     "output_type": "execute_result"
    }
   ],
   "source": [
    "df.shape"
   ]
  },
  {
   "cell_type": "markdown",
   "metadata": {},
   "source": [
    "# Özniteliklerin veri türleri, içerdikleri kayıt sayıları ve bellek kullanımı hakkında bilgi edinme"
   ]
  },
  {
   "cell_type": "code",
   "execution_count": 6,
   "metadata": {},
   "outputs": [
    {
     "name": "stdout",
     "output_type": "stream",
     "text": [
      "<class 'pandas.core.frame.DataFrame'>\n",
      "RangeIndex: 12 entries, 0 to 11\n",
      "Data columns (total 6 columns):\n",
      "Meslek         8 non-null object\n",
      "Puan           12 non-null int64\n",
      "Tarih          8 non-null object\n",
      "Yaş            12 non-null int64\n",
      "ÇocukSayısı    3 non-null float64\n",
      "İsim           12 non-null object\n",
      "dtypes: float64(1), int64(2), object(3)\n",
      "memory usage: 656.0+ bytes\n"
     ]
    }
   ],
   "source": [
    "df.info()"
   ]
  },
  {
   "cell_type": "markdown",
   "metadata": {},
   "source": [
    "**Ekran çıktısından da görüleceği üzere örneğimizdeki data frame (yani df değişkeni) bellekte 656 byte yer kaplamaktadır. ÇocukSayısı özniteliğinin karşısında yazan 3 değeri, bu özniteliğin değerinin sadece 3 kişi için girildiğini ve diğer 9 kişi için eksik olduğunu ifade etmektedir.**"
   ]
  },
  {
   "cell_type": "markdown",
   "metadata": {},
   "source": [
    "# Öznitelik seçerek kayıtları gösterme (projection)"
   ]
  },
  {
   "cell_type": "code",
   "execution_count": 7,
   "metadata": {},
   "outputs": [
    {
     "data": {
      "text/plain": [
       "0     21\n",
       "1     24\n",
       "2     25\n",
       "3     44\n",
       "4     31\n",
       "5     27\n",
       "6     35\n",
       "7     33\n",
       "8     42\n",
       "9     29\n",
       "10    41\n",
       "11    43\n",
       "Name: Yaş, dtype: int64"
      ]
     },
     "execution_count": 7,
     "metadata": {},
     "output_type": "execute_result"
    }
   ],
   "source": [
    "df['Yaş']"
   ]
  },
  {
   "cell_type": "markdown",
   "metadata": {},
   "source": [
    "# Öznitelik seçerek ilk 5 kaydı gösterme (top)"
   ]
  },
  {
   "cell_type": "code",
   "execution_count": 8,
   "metadata": {},
   "outputs": [
    {
     "data": {
      "text/plain": [
       "0       Ada\n",
       "1       Cem\n",
       "2     Sibel\n",
       "3     Ahmet\n",
       "4    Mehmet\n",
       "Name: İsim, dtype: object"
      ]
     },
     "execution_count": 8,
     "metadata": {},
     "output_type": "execute_result"
    }
   ],
   "source": [
    "df['İsim'][:5]"
   ]
  },
  {
   "cell_type": "markdown",
   "metadata": {},
   "source": [
    "# Birden fazla öznitelik seçme"
   ]
  },
  {
   "cell_type": "code",
   "execution_count": 9,
   "metadata": {},
   "outputs": [
    {
     "data": {
      "text/html": [
       "<div>\n",
       "<style scoped>\n",
       "    .dataframe tbody tr th:only-of-type {\n",
       "        vertical-align: middle;\n",
       "    }\n",
       "\n",
       "    .dataframe tbody tr th {\n",
       "        vertical-align: top;\n",
       "    }\n",
       "\n",
       "    .dataframe thead th {\n",
       "        text-align: right;\n",
       "    }\n",
       "</style>\n",
       "<table border=\"1\" class=\"dataframe\">\n",
       "  <thead>\n",
       "    <tr style=\"text-align: right;\">\n",
       "      <th></th>\n",
       "      <th>Yaş</th>\n",
       "      <th>İsim</th>\n",
       "    </tr>\n",
       "  </thead>\n",
       "  <tbody>\n",
       "    <tr>\n",
       "      <th>0</th>\n",
       "      <td>21</td>\n",
       "      <td>Ada</td>\n",
       "    </tr>\n",
       "    <tr>\n",
       "      <th>1</th>\n",
       "      <td>24</td>\n",
       "      <td>Cem</td>\n",
       "    </tr>\n",
       "    <tr>\n",
       "      <th>2</th>\n",
       "      <td>25</td>\n",
       "      <td>Sibel</td>\n",
       "    </tr>\n",
       "    <tr>\n",
       "      <th>3</th>\n",
       "      <td>44</td>\n",
       "      <td>Ahmet</td>\n",
       "    </tr>\n",
       "    <tr>\n",
       "      <th>4</th>\n",
       "      <td>31</td>\n",
       "      <td>Mehmet</td>\n",
       "    </tr>\n",
       "    <tr>\n",
       "      <th>5</th>\n",
       "      <td>27</td>\n",
       "      <td>Ali</td>\n",
       "    </tr>\n",
       "    <tr>\n",
       "      <th>6</th>\n",
       "      <td>35</td>\n",
       "      <td>Veli</td>\n",
       "    </tr>\n",
       "    <tr>\n",
       "      <th>7</th>\n",
       "      <td>33</td>\n",
       "      <td>Ayşe</td>\n",
       "    </tr>\n",
       "    <tr>\n",
       "      <th>8</th>\n",
       "      <td>42</td>\n",
       "      <td>Hüseyin</td>\n",
       "    </tr>\n",
       "    <tr>\n",
       "      <th>9</th>\n",
       "      <td>29</td>\n",
       "      <td>Necmi</td>\n",
       "    </tr>\n",
       "    <tr>\n",
       "      <th>10</th>\n",
       "      <td>41</td>\n",
       "      <td>Nalan</td>\n",
       "    </tr>\n",
       "    <tr>\n",
       "      <th>11</th>\n",
       "      <td>43</td>\n",
       "      <td>Namık</td>\n",
       "    </tr>\n",
       "  </tbody>\n",
       "</table>\n",
       "</div>"
      ],
      "text/plain": [
       "    Yaş     İsim\n",
       "0    21      Ada\n",
       "1    24      Cem\n",
       "2    25    Sibel\n",
       "3    44    Ahmet\n",
       "4    31   Mehmet\n",
       "5    27      Ali\n",
       "6    35     Veli\n",
       "7    33     Ayşe\n",
       "8    42  Hüseyin\n",
       "9    29    Necmi\n",
       "10   41    Nalan\n",
       "11   43    Namık"
      ]
     },
     "execution_count": 9,
     "metadata": {},
     "output_type": "execute_result"
    }
   ],
   "source": [
    "df[['Yaş', 'İsim']]"
   ]
  },
  {
   "cell_type": "markdown",
   "metadata": {},
   "source": [
    "# Yaşı 30'dan büyük ve (and) Puanı 50'den büyük kayıtları getir"
   ]
  },
  {
   "cell_type": "code",
   "execution_count": 10,
   "metadata": {},
   "outputs": [
    {
     "data": {
      "text/html": [
       "<div>\n",
       "<style scoped>\n",
       "    .dataframe tbody tr th:only-of-type {\n",
       "        vertical-align: middle;\n",
       "    }\n",
       "\n",
       "    .dataframe tbody tr th {\n",
       "        vertical-align: top;\n",
       "    }\n",
       "\n",
       "    .dataframe thead th {\n",
       "        text-align: right;\n",
       "    }\n",
       "</style>\n",
       "<table border=\"1\" class=\"dataframe\">\n",
       "  <thead>\n",
       "    <tr style=\"text-align: right;\">\n",
       "      <th></th>\n",
       "      <th>Meslek</th>\n",
       "      <th>Puan</th>\n",
       "      <th>Tarih</th>\n",
       "      <th>Yaş</th>\n",
       "      <th>ÇocukSayısı</th>\n",
       "      <th>İsim</th>\n",
       "    </tr>\n",
       "  </thead>\n",
       "  <tbody>\n",
       "    <tr>\n",
       "      <th>3</th>\n",
       "      <td>serbest</td>\n",
       "      <td>55</td>\n",
       "      <td>18.11.2011</td>\n",
       "      <td>44</td>\n",
       "      <td>NaN</td>\n",
       "      <td>Ahmet</td>\n",
       "    </tr>\n",
       "    <tr>\n",
       "      <th>4</th>\n",
       "      <td>serbest</td>\n",
       "      <td>70</td>\n",
       "      <td>18.11.2011</td>\n",
       "      <td>31</td>\n",
       "      <td>NaN</td>\n",
       "      <td>Mehmet</td>\n",
       "    </tr>\n",
       "    <tr>\n",
       "      <th>6</th>\n",
       "      <td>None</td>\n",
       "      <td>73</td>\n",
       "      <td>None</td>\n",
       "      <td>35</td>\n",
       "      <td>2.0</td>\n",
       "      <td>Veli</td>\n",
       "    </tr>\n",
       "    <tr>\n",
       "      <th>7</th>\n",
       "      <td>sigortacı</td>\n",
       "      <td>79</td>\n",
       "      <td>None</td>\n",
       "      <td>33</td>\n",
       "      <td>0.0</td>\n",
       "      <td>Ayşe</td>\n",
       "    </tr>\n",
       "    <tr>\n",
       "      <th>8</th>\n",
       "      <td>işsiz</td>\n",
       "      <td>54</td>\n",
       "      <td>11.11.2010</td>\n",
       "      <td>42</td>\n",
       "      <td>NaN</td>\n",
       "      <td>Hüseyin</td>\n",
       "    </tr>\n",
       "    <tr>\n",
       "      <th>10</th>\n",
       "      <td>None</td>\n",
       "      <td>61</td>\n",
       "      <td>18.11.2011</td>\n",
       "      <td>41</td>\n",
       "      <td>NaN</td>\n",
       "      <td>Nalan</td>\n",
       "    </tr>\n",
       "    <tr>\n",
       "      <th>11</th>\n",
       "      <td>memur</td>\n",
       "      <td>69</td>\n",
       "      <td>18.11.2011</td>\n",
       "      <td>43</td>\n",
       "      <td>NaN</td>\n",
       "      <td>Namık</td>\n",
       "    </tr>\n",
       "  </tbody>\n",
       "</table>\n",
       "</div>"
      ],
      "text/plain": [
       "       Meslek  Puan       Tarih  Yaş  ÇocukSayısı     İsim\n",
       "3     serbest    55  18.11.2011   44          NaN    Ahmet\n",
       "4     serbest    70  18.11.2011   31          NaN   Mehmet\n",
       "6        None    73        None   35          2.0     Veli\n",
       "7   sigortacı    79        None   33          0.0     Ayşe\n",
       "8       işsiz    54  11.11.2010   42          NaN  Hüseyin\n",
       "10       None    61  18.11.2011   41          NaN    Nalan\n",
       "11      memur    69  18.11.2011   43          NaN    Namık"
      ]
     },
     "execution_count": 10,
     "metadata": {},
     "output_type": "execute_result"
    }
   ],
   "source": [
    "df[(df['Yaş']>30) & (df['Puan']>50)]"
   ]
  },
  {
   "cell_type": "markdown",
   "metadata": {},
   "source": [
    "# Mesleği ‘işçi’ olan veya (or) Puanı 90'dan büyük olan kayıtları getir"
   ]
  },
  {
   "cell_type": "code",
   "execution_count": 11,
   "metadata": {},
   "outputs": [
    {
     "data": {
      "text/html": [
       "<div>\n",
       "<style scoped>\n",
       "    .dataframe tbody tr th:only-of-type {\n",
       "        vertical-align: middle;\n",
       "    }\n",
       "\n",
       "    .dataframe tbody tr th {\n",
       "        vertical-align: top;\n",
       "    }\n",
       "\n",
       "    .dataframe thead th {\n",
       "        text-align: right;\n",
       "    }\n",
       "</style>\n",
       "<table border=\"1\" class=\"dataframe\">\n",
       "  <thead>\n",
       "    <tr style=\"text-align: right;\">\n",
       "      <th></th>\n",
       "      <th>Meslek</th>\n",
       "      <th>Puan</th>\n",
       "      <th>Tarih</th>\n",
       "      <th>Yaş</th>\n",
       "      <th>ÇocukSayısı</th>\n",
       "      <th>İsim</th>\n",
       "    </tr>\n",
       "  </thead>\n",
       "  <tbody>\n",
       "    <tr>\n",
       "      <th>0</th>\n",
       "      <td>işçi</td>\n",
       "      <td>89</td>\n",
       "      <td>11.11.2010</td>\n",
       "      <td>21</td>\n",
       "      <td>NaN</td>\n",
       "      <td>Ada</td>\n",
       "    </tr>\n",
       "    <tr>\n",
       "      <th>1</th>\n",
       "      <td>işçi</td>\n",
       "      <td>87</td>\n",
       "      <td>11.11.2010</td>\n",
       "      <td>24</td>\n",
       "      <td>NaN</td>\n",
       "      <td>Cem</td>\n",
       "    </tr>\n",
       "    <tr>\n",
       "      <th>9</th>\n",
       "      <td>None</td>\n",
       "      <td>92</td>\n",
       "      <td>None</td>\n",
       "      <td>29</td>\n",
       "      <td>NaN</td>\n",
       "      <td>Necmi</td>\n",
       "    </tr>\n",
       "  </tbody>\n",
       "</table>\n",
       "</div>"
      ],
      "text/plain": [
       "  Meslek  Puan       Tarih  Yaş  ÇocukSayısı   İsim\n",
       "0   işçi    89  11.11.2010   21          NaN    Ada\n",
       "1   işçi    87  11.11.2010   24          NaN    Cem\n",
       "9   None    92        None   29          NaN  Necmi"
      ]
     },
     "execution_count": 11,
     "metadata": {},
     "output_type": "execute_result"
    }
   ],
   "source": [
    "df[(df['Meslek']=='işçi') | (df['Puan']>90)]"
   ]
  },
  {
   "cell_type": "markdown",
   "metadata": {},
   "source": [
    "# Filtreleme query() fonksiyonu kullanılarak da gerçekleştirilebilir"
   ]
  },
  {
   "cell_type": "code",
   "execution_count": 12,
   "metadata": {},
   "outputs": [
    {
     "data": {
      "text/html": [
       "<div>\n",
       "<style scoped>\n",
       "    .dataframe tbody tr th:only-of-type {\n",
       "        vertical-align: middle;\n",
       "    }\n",
       "\n",
       "    .dataframe tbody tr th {\n",
       "        vertical-align: top;\n",
       "    }\n",
       "\n",
       "    .dataframe thead th {\n",
       "        text-align: right;\n",
       "    }\n",
       "</style>\n",
       "<table border=\"1\" class=\"dataframe\">\n",
       "  <thead>\n",
       "    <tr style=\"text-align: right;\">\n",
       "      <th></th>\n",
       "      <th>Meslek</th>\n",
       "      <th>Puan</th>\n",
       "      <th>Tarih</th>\n",
       "      <th>Yaş</th>\n",
       "      <th>ÇocukSayısı</th>\n",
       "      <th>İsim</th>\n",
       "    </tr>\n",
       "  </thead>\n",
       "  <tbody>\n",
       "    <tr>\n",
       "      <th>3</th>\n",
       "      <td>serbest</td>\n",
       "      <td>55</td>\n",
       "      <td>18.11.2011</td>\n",
       "      <td>44</td>\n",
       "      <td>NaN</td>\n",
       "      <td>Ahmet</td>\n",
       "    </tr>\n",
       "    <tr>\n",
       "      <th>4</th>\n",
       "      <td>serbest</td>\n",
       "      <td>70</td>\n",
       "      <td>18.11.2011</td>\n",
       "      <td>31</td>\n",
       "      <td>NaN</td>\n",
       "      <td>Mehmet</td>\n",
       "    </tr>\n",
       "    <tr>\n",
       "      <th>6</th>\n",
       "      <td>None</td>\n",
       "      <td>73</td>\n",
       "      <td>None</td>\n",
       "      <td>35</td>\n",
       "      <td>2.0</td>\n",
       "      <td>Veli</td>\n",
       "    </tr>\n",
       "    <tr>\n",
       "      <th>7</th>\n",
       "      <td>sigortacı</td>\n",
       "      <td>79</td>\n",
       "      <td>None</td>\n",
       "      <td>33</td>\n",
       "      <td>0.0</td>\n",
       "      <td>Ayşe</td>\n",
       "    </tr>\n",
       "    <tr>\n",
       "      <th>8</th>\n",
       "      <td>işsiz</td>\n",
       "      <td>54</td>\n",
       "      <td>11.11.2010</td>\n",
       "      <td>42</td>\n",
       "      <td>NaN</td>\n",
       "      <td>Hüseyin</td>\n",
       "    </tr>\n",
       "    <tr>\n",
       "      <th>10</th>\n",
       "      <td>None</td>\n",
       "      <td>61</td>\n",
       "      <td>18.11.2011</td>\n",
       "      <td>41</td>\n",
       "      <td>NaN</td>\n",
       "      <td>Nalan</td>\n",
       "    </tr>\n",
       "    <tr>\n",
       "      <th>11</th>\n",
       "      <td>memur</td>\n",
       "      <td>69</td>\n",
       "      <td>18.11.2011</td>\n",
       "      <td>43</td>\n",
       "      <td>NaN</td>\n",
       "      <td>Namık</td>\n",
       "    </tr>\n",
       "  </tbody>\n",
       "</table>\n",
       "</div>"
      ],
      "text/plain": [
       "       Meslek  Puan       Tarih  Yaş  ÇocukSayısı     İsim\n",
       "3     serbest    55  18.11.2011   44          NaN    Ahmet\n",
       "4     serbest    70  18.11.2011   31          NaN   Mehmet\n",
       "6        None    73        None   35          2.0     Veli\n",
       "7   sigortacı    79        None   33          0.0     Ayşe\n",
       "8       işsiz    54  11.11.2010   42          NaN  Hüseyin\n",
       "10       None    61  18.11.2011   41          NaN    Nalan\n",
       "11      memur    69  18.11.2011   43          NaN    Namık"
      ]
     },
     "execution_count": 12,
     "metadata": {},
     "output_type": "execute_result"
    }
   ],
   "source": [
    "#query() fonksiyonu ile filtreleme\n",
    "df_filtered = df.query('Yaş>30 & Puan>50')\n",
    "df_filtered"
   ]
  },
  {
   "cell_type": "markdown",
   "metadata": {},
   "source": [
    "# Puan bilgisine göre azalan şekilde sırala (büyükten → küçüğe)"
   ]
  },
  {
   "cell_type": "code",
   "execution_count": 13,
   "metadata": {},
   "outputs": [
    {
     "data": {
      "text/html": [
       "<div>\n",
       "<style scoped>\n",
       "    .dataframe tbody tr th:only-of-type {\n",
       "        vertical-align: middle;\n",
       "    }\n",
       "\n",
       "    .dataframe tbody tr th {\n",
       "        vertical-align: top;\n",
       "    }\n",
       "\n",
       "    .dataframe thead th {\n",
       "        text-align: right;\n",
       "    }\n",
       "</style>\n",
       "<table border=\"1\" class=\"dataframe\">\n",
       "  <thead>\n",
       "    <tr style=\"text-align: right;\">\n",
       "      <th></th>\n",
       "      <th>Meslek</th>\n",
       "      <th>Puan</th>\n",
       "      <th>Tarih</th>\n",
       "      <th>Yaş</th>\n",
       "      <th>ÇocukSayısı</th>\n",
       "      <th>İsim</th>\n",
       "    </tr>\n",
       "  </thead>\n",
       "  <tbody>\n",
       "    <tr>\n",
       "      <th>9</th>\n",
       "      <td>None</td>\n",
       "      <td>92</td>\n",
       "      <td>None</td>\n",
       "      <td>29</td>\n",
       "      <td>NaN</td>\n",
       "      <td>Necmi</td>\n",
       "    </tr>\n",
       "    <tr>\n",
       "      <th>0</th>\n",
       "      <td>işçi</td>\n",
       "      <td>89</td>\n",
       "      <td>11.11.2010</td>\n",
       "      <td>21</td>\n",
       "      <td>NaN</td>\n",
       "      <td>Ada</td>\n",
       "    </tr>\n",
       "    <tr>\n",
       "      <th>1</th>\n",
       "      <td>işçi</td>\n",
       "      <td>87</td>\n",
       "      <td>11.11.2010</td>\n",
       "      <td>24</td>\n",
       "      <td>NaN</td>\n",
       "      <td>Cem</td>\n",
       "    </tr>\n",
       "    <tr>\n",
       "      <th>5</th>\n",
       "      <td>None</td>\n",
       "      <td>79</td>\n",
       "      <td>None</td>\n",
       "      <td>27</td>\n",
       "      <td>1.0</td>\n",
       "      <td>Ali</td>\n",
       "    </tr>\n",
       "    <tr>\n",
       "      <th>7</th>\n",
       "      <td>sigortacı</td>\n",
       "      <td>79</td>\n",
       "      <td>None</td>\n",
       "      <td>33</td>\n",
       "      <td>0.0</td>\n",
       "      <td>Ayşe</td>\n",
       "    </tr>\n",
       "    <tr>\n",
       "      <th>2</th>\n",
       "      <td>memur</td>\n",
       "      <td>77</td>\n",
       "      <td>11.11.2010</td>\n",
       "      <td>25</td>\n",
       "      <td>NaN</td>\n",
       "      <td>Sibel</td>\n",
       "    </tr>\n",
       "    <tr>\n",
       "      <th>6</th>\n",
       "      <td>None</td>\n",
       "      <td>73</td>\n",
       "      <td>None</td>\n",
       "      <td>35</td>\n",
       "      <td>2.0</td>\n",
       "      <td>Veli</td>\n",
       "    </tr>\n",
       "    <tr>\n",
       "      <th>4</th>\n",
       "      <td>serbest</td>\n",
       "      <td>70</td>\n",
       "      <td>18.11.2011</td>\n",
       "      <td>31</td>\n",
       "      <td>NaN</td>\n",
       "      <td>Mehmet</td>\n",
       "    </tr>\n",
       "    <tr>\n",
       "      <th>11</th>\n",
       "      <td>memur</td>\n",
       "      <td>69</td>\n",
       "      <td>18.11.2011</td>\n",
       "      <td>43</td>\n",
       "      <td>NaN</td>\n",
       "      <td>Namık</td>\n",
       "    </tr>\n",
       "    <tr>\n",
       "      <th>10</th>\n",
       "      <td>None</td>\n",
       "      <td>61</td>\n",
       "      <td>18.11.2011</td>\n",
       "      <td>41</td>\n",
       "      <td>NaN</td>\n",
       "      <td>Nalan</td>\n",
       "    </tr>\n",
       "    <tr>\n",
       "      <th>3</th>\n",
       "      <td>serbest</td>\n",
       "      <td>55</td>\n",
       "      <td>18.11.2011</td>\n",
       "      <td>44</td>\n",
       "      <td>NaN</td>\n",
       "      <td>Ahmet</td>\n",
       "    </tr>\n",
       "    <tr>\n",
       "      <th>8</th>\n",
       "      <td>işsiz</td>\n",
       "      <td>54</td>\n",
       "      <td>11.11.2010</td>\n",
       "      <td>42</td>\n",
       "      <td>NaN</td>\n",
       "      <td>Hüseyin</td>\n",
       "    </tr>\n",
       "  </tbody>\n",
       "</table>\n",
       "</div>"
      ],
      "text/plain": [
       "       Meslek  Puan       Tarih  Yaş  ÇocukSayısı     İsim\n",
       "9        None    92        None   29          NaN    Necmi\n",
       "0        işçi    89  11.11.2010   21          NaN      Ada\n",
       "1        işçi    87  11.11.2010   24          NaN      Cem\n",
       "5        None    79        None   27          1.0      Ali\n",
       "7   sigortacı    79        None   33          0.0     Ayşe\n",
       "2       memur    77  11.11.2010   25          NaN    Sibel\n",
       "6        None    73        None   35          2.0     Veli\n",
       "4     serbest    70  18.11.2011   31          NaN   Mehmet\n",
       "11      memur    69  18.11.2011   43          NaN    Namık\n",
       "10       None    61  18.11.2011   41          NaN    Nalan\n",
       "3     serbest    55  18.11.2011   44          NaN    Ahmet\n",
       "8       işsiz    54  11.11.2010   42          NaN  Hüseyin"
      ]
     },
     "execution_count": 13,
     "metadata": {},
     "output_type": "execute_result"
    }
   ],
   "source": [
    "df.sort_values('Puan', axis = 0, ascending = False)"
   ]
  },
  {
   "cell_type": "markdown",
   "metadata": {},
   "source": [
    "sort_values() fonksiyonu kullanılarak gerçekleştirilen sıralama işleminin sonucu (ekran çıktısı) ve fonksiyonun parametre değerlerinin anlamları aşağıdaki gibidir.\n",
    "\n",
    "   *  “axis = 0” → satırların sıralanacağı anlamına gelir.\n",
    "   *  “ascending = false” → azalan şekilde sıralama yapılmasını sağlar."
   ]
  },
  {
   "cell_type": "markdown",
   "metadata": {},
   "source": [
    "# Yaşı 30'dan ve Puanı 50'den büyük olan kayıtları, puan bilgisine göre azalan şekilde sırala"
   ]
  },
  {
   "cell_type": "code",
   "execution_count": 14,
   "metadata": {},
   "outputs": [
    {
     "data": {
      "text/html": [
       "<div>\n",
       "<style scoped>\n",
       "    .dataframe tbody tr th:only-of-type {\n",
       "        vertical-align: middle;\n",
       "    }\n",
       "\n",
       "    .dataframe tbody tr th {\n",
       "        vertical-align: top;\n",
       "    }\n",
       "\n",
       "    .dataframe thead th {\n",
       "        text-align: right;\n",
       "    }\n",
       "</style>\n",
       "<table border=\"1\" class=\"dataframe\">\n",
       "  <thead>\n",
       "    <tr style=\"text-align: right;\">\n",
       "      <th></th>\n",
       "      <th>Meslek</th>\n",
       "      <th>Puan</th>\n",
       "      <th>Tarih</th>\n",
       "      <th>Yaş</th>\n",
       "      <th>ÇocukSayısı</th>\n",
       "      <th>İsim</th>\n",
       "    </tr>\n",
       "  </thead>\n",
       "  <tbody>\n",
       "    <tr>\n",
       "      <th>7</th>\n",
       "      <td>sigortacı</td>\n",
       "      <td>79</td>\n",
       "      <td>None</td>\n",
       "      <td>33</td>\n",
       "      <td>0.0</td>\n",
       "      <td>Ayşe</td>\n",
       "    </tr>\n",
       "    <tr>\n",
       "      <th>6</th>\n",
       "      <td>None</td>\n",
       "      <td>73</td>\n",
       "      <td>None</td>\n",
       "      <td>35</td>\n",
       "      <td>2.0</td>\n",
       "      <td>Veli</td>\n",
       "    </tr>\n",
       "    <tr>\n",
       "      <th>4</th>\n",
       "      <td>serbest</td>\n",
       "      <td>70</td>\n",
       "      <td>18.11.2011</td>\n",
       "      <td>31</td>\n",
       "      <td>NaN</td>\n",
       "      <td>Mehmet</td>\n",
       "    </tr>\n",
       "    <tr>\n",
       "      <th>11</th>\n",
       "      <td>memur</td>\n",
       "      <td>69</td>\n",
       "      <td>18.11.2011</td>\n",
       "      <td>43</td>\n",
       "      <td>NaN</td>\n",
       "      <td>Namık</td>\n",
       "    </tr>\n",
       "    <tr>\n",
       "      <th>10</th>\n",
       "      <td>None</td>\n",
       "      <td>61</td>\n",
       "      <td>18.11.2011</td>\n",
       "      <td>41</td>\n",
       "      <td>NaN</td>\n",
       "      <td>Nalan</td>\n",
       "    </tr>\n",
       "    <tr>\n",
       "      <th>3</th>\n",
       "      <td>serbest</td>\n",
       "      <td>55</td>\n",
       "      <td>18.11.2011</td>\n",
       "      <td>44</td>\n",
       "      <td>NaN</td>\n",
       "      <td>Ahmet</td>\n",
       "    </tr>\n",
       "    <tr>\n",
       "      <th>8</th>\n",
       "      <td>işsiz</td>\n",
       "      <td>54</td>\n",
       "      <td>11.11.2010</td>\n",
       "      <td>42</td>\n",
       "      <td>NaN</td>\n",
       "      <td>Hüseyin</td>\n",
       "    </tr>\n",
       "  </tbody>\n",
       "</table>\n",
       "</div>"
      ],
      "text/plain": [
       "       Meslek  Puan       Tarih  Yaş  ÇocukSayısı     İsim\n",
       "7   sigortacı    79        None   33          0.0     Ayşe\n",
       "6        None    73        None   35          2.0     Veli\n",
       "4     serbest    70  18.11.2011   31          NaN   Mehmet\n",
       "11      memur    69  18.11.2011   43          NaN    Namık\n",
       "10       None    61  18.11.2011   41          NaN    Nalan\n",
       "3     serbest    55  18.11.2011   44          NaN    Ahmet\n",
       "8       işsiz    54  11.11.2010   42          NaN  Hüseyin"
      ]
     },
     "execution_count": 14,
     "metadata": {},
     "output_type": "execute_result"
    }
   ],
   "source": [
    "df[(df['Yaş']>30) & (df['Puan']>50)].sort_values('Puan', axis=0, ascending=False)"
   ]
  },
  {
   "cell_type": "markdown",
   "metadata": {},
   "source": [
    "# Gruplama: Meslek bazında kayıt sayısı görüntüleme (groupby)"
   ]
  },
  {
   "cell_type": "code",
   "execution_count": 15,
   "metadata": {},
   "outputs": [
    {
     "data": {
      "text/plain": [
       "Meslek\n",
       "işsiz        1\n",
       "işçi         2\n",
       "memur        2\n",
       "serbest      2\n",
       "sigortacı    1\n",
       "dtype: int64"
      ]
     },
     "execution_count": 15,
     "metadata": {},
     "output_type": "execute_result"
    }
   ],
   "source": [
    "df.groupby('Meslek').size()"
   ]
  },
  {
   "cell_type": "markdown",
   "metadata": {},
   "source": [
    "Yukarıdaki gruplama kodu çalıştırıldığında böyle bir çıktı elde ederiz. Dikkat ederseniz, bir mesleğe sahip olan 8 kişinin kaydı meslek bazında gruplanarak getirilmesine rağmen (Örn; işçi olan 2 kişi) geri kalan 4 kişi listelenmiyor. Bunun nedeni bu 4 kişi için meslek girilmemiş olmasıdır. Diğer bir deyişle girilen değerlerin “None” olmasıdır"
   ]
  },
  {
   "cell_type": "markdown",
   "metadata": {},
   "source": [
    "# *Mesleği girilmeyen ya da None olan kayıtları gruplamaya dahil etmek için aşağıdaki kod parçasını kullanabiliriz. Aşağıdaki kod parçasında olduğu gibi gruplama yapmadan hemen önce astype(str) ile tip dönüşümü yapabiliriz*"
   ]
  },
  {
   "cell_type": "code",
   "execution_count": 16,
   "metadata": {},
   "outputs": [
    {
     "data": {
      "text/plain": [
       "Meslek\n",
       "None         4\n",
       "işsiz        1\n",
       "işçi         2\n",
       "memur        2\n",
       "serbest      2\n",
       "sigortacı    1\n",
       "dtype: int64"
      ]
     },
     "execution_count": 16,
     "metadata": {},
     "output_type": "execute_result"
    }
   ],
   "source": [
    "df['Meslek'] = df['Meslek'].astype(str)\n",
    "df.groupby('Meslek').size()"
   ]
  },
  {
   "cell_type": "markdown",
   "metadata": {},
   "source": [
    "#  Gruplama: Meslek bazında alınan puanların ortalamasını görüntüleme (groupby)\n",
    "\n",
    "* lambda ve apply() fonksiyonunu birlikte kullanıyoruz."
   ]
  },
  {
   "cell_type": "code",
   "execution_count": 17,
   "metadata": {},
   "outputs": [
    {
     "data": {
      "text/plain": [
       "Meslek\n",
       "None         76.25\n",
       "işsiz        54.00\n",
       "işçi         88.00\n",
       "memur        73.00\n",
       "serbest      62.50\n",
       "sigortacı    79.00\n",
       "Name: Puan, dtype: float64"
      ]
     },
     "execution_count": 17,
     "metadata": {},
     "output_type": "execute_result"
    }
   ],
   "source": [
    "df.groupby('Meslek')['Puan'].apply(lambda x: np.mean(x))"
   ]
  },
  {
   "cell_type": "markdown",
   "metadata": {},
   "source": [
    "# **Pandas DataFrame Kullanarak Temel İstatistik Bilgisi Edinme**\n",
    "\n",
    "Bu bölümde hem aşağıdaki temel istatistik terimlerini anlamaya çalışacağız hem de terimlerle ilgili veri kümesi üzerinden örnekler vereceğiz.\n",
    "\n",
    "    * Merkezi eğilim ölçüleri: mod, medyan, aritmetik ortalama\n",
    "    * Dağılım ölçüleri: standart sapma, varyans, kovaryans, korelasyon"
   ]
  },
  {
   "cell_type": "markdown",
   "metadata": {},
   "source": [
    "# Mod (Tepe Değer)\n",
    "\n",
    "Sayısal bir veri serisi içindeki en çok tekrar eden sayı, o serinin modu olarak adlandırılır. Bazı serilerde maksimum tekrar sayısına sahip birden fazla seri elemanı olabilir. Bu durumda, serinin birden fazla modu olur. Veri kümesindeki “Puan” özniteliğinin (bu öznitelik değerleri aynı zamanda sayısal değerlere sahip bir seridir) mod değeri aşağıdaki kod parçası kullanılarak elde edilebilir."
   ]
  },
  {
   "cell_type": "code",
   "execution_count": 18,
   "metadata": {},
   "outputs": [
    {
     "data": {
      "text/plain": [
       "0    79\n",
       "dtype: int64"
      ]
     },
     "execution_count": 18,
     "metadata": {},
     "output_type": "execute_result"
    }
   ],
   "source": [
    "#Puan özniteliğinin modu\n",
    "df['Puan'].mode()"
   ]
  },
  {
   "cell_type": "markdown",
   "metadata": {},
   "source": [
    "# Medyan (Ortanca)\n",
    "\n",
    "Sayısal bir veri serisi sıralandığında ortada kalan sayıdır. Veri kümesindeki “Puan” özniteliğinin medyanı aşağıdaki kod parçası kullanılarak elde edilebilir."
   ]
  },
  {
   "cell_type": "code",
   "execution_count": 19,
   "metadata": {},
   "outputs": [
    {
     "data": {
      "text/plain": [
       "75.0"
      ]
     },
     "execution_count": 19,
     "metadata": {},
     "output_type": "execute_result"
    }
   ],
   "source": [
    "#Puan özniteliğinin medyanı\n",
    "df['Puan'].median()"
   ]
  },
  {
   "cell_type": "markdown",
   "metadata": {},
   "source": [
    "# Aritmetik Ortalama\n",
    "\n",
    "Bir serideki sayıların toplamının serinin eleman adedine bölünmesi ile elde edilen değerdir ve aşağıdaki gibi hesaplanır."
   ]
  },
  {
   "cell_type": "code",
   "execution_count": 20,
   "metadata": {},
   "outputs": [
    {
     "data": {
      "text/plain": [
       "73.75"
      ]
     },
     "execution_count": 20,
     "metadata": {},
     "output_type": "execute_result"
    }
   ],
   "source": [
    "#Puan özniteliğinin ortalaması\n",
    "df['Puan'].mean()"
   ]
  },
  {
   "cell_type": "markdown",
   "metadata": {},
   "source": [
    "Sayısal tüm özniteliklerin ortalaması elde edilmek istenirse aşağıdaki kod parçasından yararlanılabilir."
   ]
  },
  {
   "cell_type": "code",
   "execution_count": 21,
   "metadata": {},
   "outputs": [
    {
     "data": {
      "text/plain": [
       "Puan           73.750000\n",
       "Yaş            32.916667\n",
       "ÇocukSayısı     1.000000\n",
       "dtype: float64"
      ]
     },
     "execution_count": 21,
     "metadata": {},
     "output_type": "execute_result"
    }
   ],
   "source": [
    "#Sayısal tüm özniteliklerin ortalamaları\n",
    "df.mean(axis = 0, skipna = True)"
   ]
  },
  {
   "cell_type": "markdown",
   "metadata": {},
   "source": [
    "*Not: Benzer fonksiyon kullanımı yaklaşımıyla tüm öznitelikler için mod ve medyan hesaplaması yapılabilir.*"
   ]
  },
  {
   "cell_type": "markdown",
   "metadata": {},
   "source": [
    "# Standart Sapma\n",
    "\n",
    "Bir serideki sayıların, serinin aritmetik ortalamasından farklarının karelerinin toplamının, serinin eleman sayısının bir eksiğine bölümünün kareköküdür. Standart sapma ile verilerin ne kadarının ortalamaya yakın olduğunu buluruz. Eğer standart sapma küçükse veriler ortalamaya yakın yerlerde dağılmışlardır. Tam tersi durumda, standart sapma büyükse, veriler ortalamadan uzak yerlerde dağılmışlardır. Bütün değerler aynı olursa standart sapma sıfır olur. Formülü aşağıdaki gibidir."
   ]
  },
  {
   "cell_type": "code",
   "execution_count": 33,
   "metadata": {},
   "outputs": [
    {
     "data": {
      "image/png": "[encoded data removed]",
      "text/plain": [
       "<IPython.core.display.Image object>"
      ]
     },
     "execution_count": 33,
     "metadata": {},
     "output_type": "execute_result"
    }
   ],
   "source": [
    "from IPython.display import Image\n",
    "Image(\"resimler/std.png\")"
   ]
  },
  {
   "cell_type": "code",
   "execution_count": 22,
   "metadata": {},
   "outputs": [
    {
     "data": {
      "text/plain": [
       "12.606816338069583"
      ]
     },
     "execution_count": 22,
     "metadata": {},
     "output_type": "execute_result"
    }
   ],
   "source": [
    "#Puan özniteliğinin standart sapması\n",
    "df['Puan'].std()"
   ]
  },
  {
   "cell_type": "markdown",
   "metadata": {},
   "source": [
    "# Varyans\n",
    "\n",
    "Standart sapmanın karesidir."
   ]
  },
  {
   "cell_type": "markdown",
   "metadata": {},
   "source": [
    "# Kovaryans\n",
    "\n",
    "Sayısal değere sahip değişkenlerin/özniteliklerin (Örn: Puan ile Yaş) birlikte nasıl değiştiğini diğer bir tabirle ilişkilerini araştırır. İlişkinin yönü +(pozitif, aynı yönlü),-(negatif, ters yönlü) ya da 0 (sıfır)olabilir. Formülü aşağıdaki gibidir."
   ]
  },
  {
   "cell_type": "code",
   "execution_count": 34,
   "metadata": {},
   "outputs": [
    {
     "data": {
      "image/png": "[encoded data removed]",
      "text/plain": [
       "<IPython.core.display.Image object>"
      ]
     },
     "execution_count": 34,
     "metadata": {},
     "output_type": "execute_result"
    }
   ],
   "source": [
    "Image(\"resimler/kovaryans.png\")"
   ]
  },
  {
   "cell_type": "markdown",
   "metadata": {},
   "source": [
    "Veri kümesinde yer alan tüm öznitelikler arasındaki kovaryans değerlerini içeren matris aşağıdaki kod parçasıyla hesaplanabilir."
   ]
  },
  {
   "cell_type": "code",
   "execution_count": 23,
   "metadata": {},
   "outputs": [
    {
     "data": {
      "text/html": [
       "<div>\n",
       "<style scoped>\n",
       "    .dataframe tbody tr th:only-of-type {\n",
       "        vertical-align: middle;\n",
       "    }\n",
       "\n",
       "    .dataframe tbody tr th {\n",
       "        vertical-align: top;\n",
       "    }\n",
       "\n",
       "    .dataframe thead th {\n",
       "        text-align: right;\n",
       "    }\n",
       "</style>\n",
       "<table border=\"1\" class=\"dataframe\">\n",
       "  <thead>\n",
       "    <tr style=\"text-align: right;\">\n",
       "      <th></th>\n",
       "      <th>Puan</th>\n",
       "      <th>Yaş</th>\n",
       "      <th>ÇocukSayısı</th>\n",
       "    </tr>\n",
       "  </thead>\n",
       "  <tbody>\n",
       "    <tr>\n",
       "      <th>Puan</th>\n",
       "      <td>158.931818</td>\n",
       "      <td>-87.295455</td>\n",
       "      <td>-3.0</td>\n",
       "    </tr>\n",
       "    <tr>\n",
       "      <th>Yaş</th>\n",
       "      <td>-87.295455</td>\n",
       "      <td>64.992424</td>\n",
       "      <td>1.0</td>\n",
       "    </tr>\n",
       "    <tr>\n",
       "      <th>ÇocukSayısı</th>\n",
       "      <td>-3.000000</td>\n",
       "      <td>1.000000</td>\n",
       "      <td>1.0</td>\n",
       "    </tr>\n",
       "  </tbody>\n",
       "</table>\n",
       "</div>"
      ],
      "text/plain": [
       "                   Puan        Yaş  ÇocukSayısı\n",
       "Puan         158.931818 -87.295455         -3.0\n",
       "Yaş          -87.295455  64.992424          1.0\n",
       "ÇocukSayısı   -3.000000   1.000000          1.0"
      ]
     },
     "execution_count": 23,
     "metadata": {},
     "output_type": "execute_result"
    }
   ],
   "source": [
    "#Kovaryans matrisi hesapla\n",
    "df.cov()"
   ]
  },
  {
   "cell_type": "markdown",
   "metadata": {},
   "source": [
    "*Not: Kovaryans matrisi bize; Puan ile Yaş arasında negatif, Puan ile ÇocukSayısı arasında negatif, Yaş ile ÇocukSayısı arasında pozitif bir ilişkinin var olduğunu göstermektedir. Ancak ilişkinin şiddeti hakkında bir yorum yapamayız.*"
   ]
  },
  {
   "cell_type": "markdown",
   "metadata": {},
   "source": [
    "# Korelasyon\n",
    "\n",
    "İki veya daha fazla bağımsız değişken (öznitelik)arasındaki ilişkinin varlığı, bu ilişkinin yönü ve şiddeti korelasyon analizi ve sonucunda elde edilen korelasyon katsayısı ile belirlenir. Formülü aşağıdaki gibidir."
   ]
  },
  {
   "cell_type": "code",
   "execution_count": 36,
   "metadata": {},
   "outputs": [
    {
     "data": {
      "image/png": "[encoded data removed]",
      "text/plain": [
       "<IPython.core.display.Image object>"
      ]
     },
     "execution_count": 36,
     "metadata": {},
     "output_type": "execute_result"
    }
   ],
   "source": [
    "Image(\"resimler/korolasyon.png\")"
   ]
  },
  {
   "cell_type": "markdown",
   "metadata": {},
   "source": [
    "Korelasyon katsayısı “r”, “-1” ve “1” arasında değişen değerler alır. Değer sonuçları ile ilgili yorumlar aşağıdaki gibidir.\n",
    "\n",
    "   * r = -1 → negatif yönlü mükemmel bir ilişki\n",
    "   * r = 1 → pozitif yönlü mükemmel bir ilişki\n",
    "   * r = 0 → ilişki yok\n",
    "   * r = 0.8 → pozitif yönlü iyi bir ilişki\n",
    "   * r = -0.6 → negatif yönlü orta seviye bir ilişki\n",
    "\n",
    "Veri kümesinde yer alan tüm öznitelikler arasındaki korelasyon katsayısı değerlerini içeren matrisi hesaplamak için aşağıdaki kod parçası kullanılabilir."
   ]
  },
  {
   "cell_type": "code",
   "execution_count": 24,
   "metadata": {},
   "outputs": [
    {
     "data": {
      "text/html": [
       "<div>\n",
       "<style scoped>\n",
       "    .dataframe tbody tr th:only-of-type {\n",
       "        vertical-align: middle;\n",
       "    }\n",
       "\n",
       "    .dataframe tbody tr th {\n",
       "        vertical-align: top;\n",
       "    }\n",
       "\n",
       "    .dataframe thead th {\n",
       "        text-align: right;\n",
       "    }\n",
       "</style>\n",
       "<table border=\"1\" class=\"dataframe\">\n",
       "  <thead>\n",
       "    <tr style=\"text-align: right;\">\n",
       "      <th></th>\n",
       "      <th>Puan</th>\n",
       "      <th>Yaş</th>\n",
       "      <th>ÇocukSayısı</th>\n",
       "    </tr>\n",
       "  </thead>\n",
       "  <tbody>\n",
       "    <tr>\n",
       "      <th>Puan</th>\n",
       "      <td>1.000000</td>\n",
       "      <td>-0.858924</td>\n",
       "      <td>-0.866025</td>\n",
       "    </tr>\n",
       "    <tr>\n",
       "      <th>Yaş</th>\n",
       "      <td>-0.858924</td>\n",
       "      <td>1.000000</td>\n",
       "      <td>0.240192</td>\n",
       "    </tr>\n",
       "    <tr>\n",
       "      <th>ÇocukSayısı</th>\n",
       "      <td>-0.866025</td>\n",
       "      <td>0.240192</td>\n",
       "      <td>1.000000</td>\n",
       "    </tr>\n",
       "  </tbody>\n",
       "</table>\n",
       "</div>"
      ],
      "text/plain": [
       "                 Puan       Yaş  ÇocukSayısı\n",
       "Puan         1.000000 -0.858924    -0.866025\n",
       "Yaş         -0.858924  1.000000     0.240192\n",
       "ÇocukSayısı -0.866025  0.240192     1.000000"
      ]
     },
     "execution_count": 24,
     "metadata": {},
     "output_type": "execute_result"
    }
   ],
   "source": [
    "#Korelasyon matrisi hesapla\n",
    "df.corr()"
   ]
  },
  {
   "cell_type": "markdown",
   "metadata": {},
   "source": [
    "Not: Korelasyon matrisine göre Puan ile Yaş arasında negatif (ters yönlü) güçlü bir ilişki, Puan ile ÇocukSayısı arasında yine negatif (ters yönlü) güçlü bir ilişki, Yaş ile ÇocukSayısı arasında pozitif (aynı yönlü) zayıf bir ilişki vardır.\n",
    "\n",
    "    * Yaş arttıkça sınavdan alınan puan düşmektedir. \n",
    "    * Çocuk sayısı arttıkça puan düşmektedir.\n",
    "\n",
    "Yaş ile puan arasındaki ters yönlü ilişkiyi basitçe çizdirerek, mevcut durumu görmek istersek aşağıdaki gibi kod parçasını kullanabiliriz."
   ]
  },
  {
   "cell_type": "code",
   "execution_count": 26,
   "metadata": {},
   "outputs": [
    {
     "data": {
      "text/plain": [
       "<matplotlib.axes._subplots.AxesSubplot at 0x2243979afd0>"
      ]
     },
     "execution_count": 26,
     "metadata": {},
     "output_type": "execute_result"
    },
    {
     "data": {
      "image/png": "[encoded data removed]",
      "text/plain": [
       "<Figure size 432x288 with 1 Axes>"
      ]
     },
     "metadata": {
      "needs_background": "light"
     },
     "output_type": "display_data"
    }
   ],
   "source": [
    "df.plot(x='Yaş', y='Puan', style='*')"
   ]
  },
  {
   "cell_type": "markdown",
   "metadata": {},
   "source": [
    "Değişkenler (öznitelikler) arasındaki korelasyon katsayısı değerlerini gösterirken en çok kullanılan yöntemlerden birisi de ısı haritası ile görselleştirme yapmaktır. seaborn paketinde yer alan heatmap() fonksiyonu aşağıdaki gibi kullanılarak değişkenler arasındaki korelasyon değerleri ısı haritası üzerinde görülebilir."
   ]
  },
  {
   "cell_type": "code",
   "execution_count": 27,
   "metadata": {},
   "outputs": [
    {
     "data": {
      "text/plain": [
       "<matplotlib.axes._subplots.AxesSubplot at 0x2243aba4e10>"
      ]
     },
     "execution_count": 27,
     "metadata": {},
     "output_type": "execute_result"
    },
    {
     "data": {
      "image/png": "[encoded data removed]",
      "text/plain": [
       "<Figure size 432x288 with 2 Axes>"
      ]
     },
     "metadata": {
      "needs_background": "light"
     },
     "output_type": "display_data"
    }
   ],
   "source": [
    "#Korelasyon Gösterim\n",
    "import seaborn as sns\n",
    "corr = df.corr()\n",
    "sns.heatmap(corr, \n",
    "            xticklabels=corr.columns.values,\n",
    "yticklabels=corr.columns.values)"
   ]
  },
  {
   "cell_type": "markdown",
   "metadata": {},
   "source": [
    "# **Faydalı olması dileğiyle**"
   ]
  },
  {
   "cell_type": "code",
   "execution_count": null,
   "metadata": {},
   "outputs": [],
   "source": []
  }
 ],
 "metadata": {
  "kernelspec": {
   "display_name": "Python 3.6 (tensorflow)",
   "language": "python",
   "name": "tensorflow"
  },
  "language_info": {
   "codemirror_mode": {
    "name": "ipython",
    "version": 3
   },
   "file_extension": ".py",
   "mimetype": "text/x-python",
   "name": "python",
   "nbconvert_exporter": "python",
   "pygments_lexer": "ipython3",
   "version": "3.5.5"
  }
 },
 "nbformat": 4,
 "nbformat_minor": 2
}
